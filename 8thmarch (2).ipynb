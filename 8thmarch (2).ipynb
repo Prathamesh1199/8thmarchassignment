{
 "cells": [
  {
   "cell_type": "code",
   "execution_count": null,
   "id": "f655b254-3472-4a12-b00d-fdfc48506871",
   "metadata": {},
   "outputs": [],
   "source": [
    "1:\n",
    "    The Probability Density Function (PDF) is a mathematical function used in probability\n",
    "theory to describe the likelihood or probability of a continuous random variable taking\n",
    "on a certain value or range of values.\n",
    "    \n",
    "    In simpler terms, it is a function that tells us how likely it is that a random variable\n",
    "will take on a particular value or a range of values. The PDF is used to describe the shape\n",
    "of a probability distribution, such as a normal distribution, and can help us calculate the\n",
    "probability of an event occurring within a specific range of values. It is often graphed as\n",
    "a curve, where the area under the curve represents the total probability of all possible outcomes.\n",
    "    \n",
    " \n",
    "    "
   ]
  },
  {
   "cell_type": "code",
   "execution_count": null,
   "id": "a2889cae-c89d-482e-927a-79a1c580d5b0",
   "metadata": {},
   "outputs": [],
   "source": []
  },
  {
   "cell_type": "code",
   "execution_count": null,
   "id": "b1c00943-5018-413d-b14c-a4174c2ffa8f",
   "metadata": {},
   "outputs": [],
   "source": [
    "2:\n",
    "    \n",
    "Probability distributions are mathematical functions that describe the likelihood or probability\n",
    "of different outcomes occurring for a given situation. There are many types of probability distributions,\n",
    "but some of the most common ones are:\n",
    "\n",
    "1.'Normal Distribution': A bell-shaped curve that represents data that is distributed symmetrically\n",
    "                      around a mean or average value.\n",
    "\n",
    "2.'Binomial Distribution': Describes the probability of a certain number of successes occurring\n",
    "                         in a fixed number of trials, given a probability of success in each trial.\n",
    "\n",
    "3.'Poisson Distribution': Describes the probability of a certain number of events occurring within\n",
    "                       a fixed interval of time or space.\n",
    "\n",
    "4.'Exponential Distribution': Describes the probability of time between events that occur at a constant\n",
    "                            rate.\n",
    "\n",
    "5.'Gamma Distribution': Describes the probability of waiting times, survival analysis, and the size of \n",
    "                      particles in physics.\n",
    "\n",
    "6.'Uniform Distribution': Describes the probability of an event occurring randomly within a certain range.\n",
    "\n",
    "  These different types of probability distributions are useful for analyzing and understanding various\n",
    "types of data in different fields, such as statistics, physics, and finance.\n",
    "\n",
    "\n",
    "\n",
    "   \n",
    "    "
   ]
  },
  {
   "cell_type": "code",
   "execution_count": null,
   "id": "a806abdb-69c7-4391-949d-bcc8c51e6371",
   "metadata": {},
   "outputs": [],
   "source": []
  },
  {
   "cell_type": "code",
   "execution_count": null,
   "id": "36fbcf04-d5a3-4769-a2c1-413fc6948d63",
   "metadata": {},
   "outputs": [],
   "source": [
    "3:  example of using the normal_pdf() function to calculate the PDF of a normal distribution\n",
    "  "
   ]
  },
  {
   "cell_type": "code",
   "execution_count": 2,
   "id": "db629ee2-b6f1-46d7-928e-503d7e0bc988",
   "metadata": {},
   "outputs": [
    {
     "name": "stdout",
     "output_type": "stream",
     "text": [
      "0.24197072451914337\n"
     ]
    }
   ],
   "source": [
    "import math\n",
    "\n",
    "def normal_pdf(x, mean, std_dev):\n",
    "    exponent = -(x - mean)**2 / (2 * std_dev**2)\n",
    "    coefficient = 1 / (std_dev * math.sqrt(2 * math.pi))\n",
    "    pdf = coefficient * math.exp(exponent)\n",
    "    return pdf\n",
    "\n",
    "mean = 0\n",
    "std_dev = 1\n",
    "x = 1\n",
    "pdf = normal_pdf(x, mean, std_dev)\n",
    "print(pdf)\n"
   ]
  },
  {
   "cell_type": "code",
   "execution_count": null,
   "id": "398ed4b8-bc75-42eb-86cf-a47eaecba49e",
   "metadata": {},
   "outputs": [],
   "source": []
  },
  {
   "cell_type": "code",
   "execution_count": null,
   "id": "a69d23e9-bc8c-4594-b663-475f9fe91985",
   "metadata": {},
   "outputs": [],
   "source": [
    "4:\n",
    "    \n",
    "The Binomial distribution is a probability distribution that tells us how likely it is to get\n",
    "a certain number of successes in a fixed number of independent trials, where each trial can \n",
    "only have two possible outcomes (success or failure) and the probability of success is the \n",
    "same in each trial. For example, flipping a coin multiple times or performing a clinical trial\n",
    "on a group of patients can be modeled using a Binomial distribution.    \n",
    "    \n",
    "The Binomial distribution has three key properties    \n",
    "\n",
    "1.The mean of the Binomial distribution is equal to the product of the number of trials and the\n",
    "probability of success in each trial.\n",
    "2.The variance of the Binomial distribution is equal to the product of the number of trials,\n",
    "the probability of success in each trial, and the probability of failure in each trial.\n",
    "3.The shape of the Binomial distribution is bell-shaped, with the peak located at or near the\n",
    "mean.\n",
    "    \n",
    "    \n",
    "Two simple examples where the Binomial distribution can be applied are:\n",
    "\n",
    "1.'Flipping a coin multiple times':\n",
    "    Suppose you flip a fair coin (where the probability of getting heads or tails is 0.5) 10 times.\n",
    "    The number of times you get heads can be modeled using a Binomial distribution, with the number\n",
    "    of trials equal to 10 and the probability of success (getting heads) equal to 0.5.\n",
    "2.'Performing a clinical trial':\n",
    "    Suppose a pharmaceutical company is testing a new drug and wants to know the probability that it \n",
    "    will be effective. They perform a clinical trial on a sample of 100 patients, and 60 of them\n",
    "    experience a positive outcome. The number of patients who experience a positive outcome can \n",
    "    be modeled using a Binomial distribution, with the number of trials equal to 100 and the probability\n",
    "    of success (the probability that a patient experiences a positive outcome) equal to 0.6.\n",
    "    \n",
    "    \n",
    "    \n",
    "    \n",
    "    \n",
    "    \n",
    "    "
   ]
  },
  {
   "cell_type": "code",
   "execution_count": null,
   "id": "62395f31-1c33-41c8-894c-b92a5c5c3305",
   "metadata": {},
   "outputs": [],
   "source": []
  },
  {
   "cell_type": "code",
   "execution_count": null,
   "id": "2858d297-ce51-4830-ba99-1fcf91637ed3",
   "metadata": {},
   "outputs": [],
   "source": [
    "5:Python code that generates a random sample of size 1000 from a binomial distribution with a\n",
    "probability of success of 0.4 and plots a histogram of the results using matplotlib:"
   ]
  },
  {
   "cell_type": "code",
   "execution_count": 4,
   "id": "40520499-c7c2-4a16-8701-5e303b9182c4",
   "metadata": {},
   "outputs": [
    {
     "data": {
      "image/png": "[encoded data removed]",
      "text/plain": [
       "<Figure size 640x480 with 1 Axes>"
      ]
     },
     "metadata": {},
     "output_type": "display_data"
    }
   ],
   "source": [
    "import numpy as np\n",
    "import matplotlib.pyplot as plt\n",
    "\n",
    "# Set the parameters for the binomial distribution\n",
    "n = 10   # number of trials\n",
    "p = 0.4  # probability of success\n",
    "\n",
    "# Generate a random sample of size 1000 from the binomial distribution\n",
    "sample = np.random.binomial(n, p, size=1000)\n",
    "\n",
    "# Plot a histogram of the sample using matplotlib\n",
    "plt.hist(sample, bins=range(n+2), rwidth=0.8, align='left')\n",
    "plt.xticks(range(n+1))\n",
    "plt.xlabel('Number of successes')\n",
    "plt.ylabel('Frequency')\n",
    "plt.title('Binomial Distribution with n={} and p={}'.format(n, p))\n",
    "plt.show()\n"
   ]
  },
  {
   "cell_type": "code",
   "execution_count": null,
   "id": "63948d0a-4d05-4b2a-9b7e-6f0ea420822b",
   "metadata": {},
   "outputs": [],
   "source": []
  },
  {
   "cell_type": "code",
   "execution_count": null,
   "id": "bbce0c67-d5b2-48dd-99fe-34240da416b3",
   "metadata": {},
   "outputs": [],
   "source": [
    "6: code that calculates the CDF of a Poisson distribution with a given mean at a given point:"
   ]
  },
  {
   "cell_type": "code",
   "execution_count": 5,
   "id": "b31c183e-1207-4a30-8faa-871a151862cc",
   "metadata": {},
   "outputs": [
    {
     "name": "stdout",
     "output_type": "stream",
     "text": [
      "The CDF of a Poisson distribution with mean 3 at point 4 is 0.8153\n"
     ]
    }
   ],
   "source": [
    "import math\n",
    "\n",
    "def poisson_cdf(x, mean):\n",
    "    cdf = 0\n",
    "    for i in range(x+1):\n",
    "        cdf += math.exp(-mean) * mean**i / math.factorial(i)\n",
    "    return cdf\n",
    "\n",
    "# Calculate the CDF of a Poisson distribution with a mean of 3 at point 4\n",
    "mean = 3\n",
    "x = 4\n",
    "cdf = poisson_cdf(x, mean)\n",
    "\n",
    "# Print the result\n",
    "print(\"The CDF of a Poisson distribution with mean {} at point {} is {:.4f}\".format(mean, x, cdf))\n"
   ]
  },
  {
   "cell_type": "code",
   "execution_count": null,
   "id": "f42415cd-28e1-4150-b80a-349b0385fd46",
   "metadata": {},
   "outputs": [],
   "source": []
  },
  {
   "cell_type": "code",
   "execution_count": null,
   "id": "47dfa417-40fa-4228-b4b8-60c88f74ace1",
   "metadata": {},
   "outputs": [],
   "source": [
    "7:\n",
    "   \n",
    "Binomial Distribution:    \n",
    "1.Used for a fixed number of independent trials with a constant probability of success.\n",
    "2.The probability of success is constant and independent for each trial\n",
    "3.The mean and variance depend on the number of trials and the probability of success.\n",
    "4.Suitable for situations where the number of trials is fixed and the probability of success is small to moderate.\n",
    "5.Examples: The number of heads in 10 coin flips, the number of defective items in a production batch, the number\n",
    "of people who respond to a survey.\n",
    "\n",
    "Poisson Distribution:    \n",
    "\n",
    "1.Used for rare events where the probability of success is small.\n",
    "2.The probability of success in each trial is dependent on the length of the interval or space.\n",
    "3.The mean and variance only depend on the rate parameter lambda.\n",
    "4.Suitable for situations where the probability of an event is very small, but the number of trials is not fixed.\n",
    "5.Examples: The number of car accidents per day on a particular road, the number of phone calls received by a call\n",
    "center in an hour, the number of mutations in a DNA sequence.\n",
    "\n",
    "    \n",
    "    \n",
    "    \n",
    "    "
   ]
  },
  {
   "cell_type": "code",
   "execution_count": null,
   "id": "ed6a1f14-caf0-4848-905c-635d07205348",
   "metadata": {},
   "outputs": [],
   "source": []
  },
  {
   "cell_type": "code",
   "execution_count": null,
   "id": "bd51c749-ef69-4a13-8165-b25c2663cd78",
   "metadata": {},
   "outputs": [],
   "source": [
    "8:Python code to generate a random sample of size 1000 from a Poisson distribution with mean\n",
    "  5 and calculate the sample mean and variance:\n",
    "    \n",
    "\n",
    "    "
   ]
  },
  {
   "cell_type": "code",
   "execution_count": 6,
   "id": "970ef2ed-6625-4356-923e-d594fa11240b",
   "metadata": {},
   "outputs": [
    {
     "name": "stdout",
     "output_type": "stream",
     "text": [
      "Sample mean: 5.052\n",
      "Sample variance: 5.551296000000001\n"
     ]
    }
   ],
   "source": [
    "import numpy as np\n",
    "\n",
    "# Generate a random sample of size 1000 from a Poisson distribution with mean 5\n",
    "sample = np.random.poisson(lam=5, size=1000)\n",
    "\n",
    "# Calculate the sample mean and variance\n",
    "sample_mean = np.mean(sample)\n",
    "sample_var = np.var(sample)\n",
    "\n",
    "print(\"Sample mean:\", sample_mean)\n",
    "print(\"Sample variance:\", sample_var)\n"
   ]
  },
  {
   "cell_type": "code",
   "execution_count": null,
   "id": "58f5fc68-cc97-41dc-8e4c-30be37195135",
   "metadata": {},
   "outputs": [],
   "source": []
  },
  {
   "cell_type": "code",
   "execution_count": null,
   "id": "572076f8-7bf0-4e8d-a042-000e2628240a",
   "metadata": {},
   "outputs": [],
   "source": [
    "9:\n",
    "    \n",
    "'Binomial Distribution':\n",
    "1.Mean: np, where n is the number of trials and p is the probability of success in each trial.\n",
    "2.Variance: np(1-p).\n",
    "    \n",
    "'Poisson Distribution':    \n",
    "1.Mean: lambda, where lambda is the rate parameter that represents the expected number of events in a given interval or space.\n",
    "2.Variance: lambda.\n",
    "\n",
    "In both distributions, the mean and variance are directly proportional to each other. This means that\n",
    "an increase in the mean will result in a corresponding increase in the variance, and vice versa.    \n",
    "    \n",
    "    However, in the binomial distribution, the relationship between mean and variance is more complex,\n",
    "as the variance also depends on the probability of success in each trial. If the probability of success is\n",
    "low or high, the variance will be smaller, while if the probability of success is moderate, the variance will\n",
    "be larger. In contrast, the Poisson distribution has a simpler relationship between mean and variance, as the\n",
    "variance is always equal to the mean.\n",
    "    \n",
    "    \n",
    "    \n",
    "    \n",
    "    \n",
    "    \n",
    "    \n",
    "    \n",
    "    \n",
    "    "
   ]
  },
  {
   "cell_type": "code",
   "execution_count": null,
   "id": "0ce05bc0-4dfc-4794-86ed-486f7a1b9a80",
   "metadata": {},
   "outputs": [],
   "source": []
  },
  {
   "cell_type": "code",
   "execution_count": null,
   "id": "53cd1abf-8460-4895-bb51-6c4de45cf74a",
   "metadata": {},
   "outputs": [],
   "source": [
    "10:\n",
    "    \n",
    " In a normal distribution, the least frequent data appears in the regions that are farthest away from \n",
    "the center of the curve, which is called the mean. The majority of the data is located near the mean,\n",
    "and as we move away from the mean towards the tails of the distribution, the frequency of data points \n",
    "decreases rapidly. The least frequent data is located in the tails of the distribution, which contains\n",
    "a very small percentage of the data compared to the rest of the distribution.   \n",
    "    \n",
    "    "
   ]
  }
 ],
 "metadata": {
  "kernelspec": {
   "display_name": "Python 3 (ipykernel)",
   "language": "python",
   "name": "python3"
  },
  "language_info": {
   "codemirror_mode": {
    "name": "ipython",
    "version": 3
   },
   "file_extension": ".py",
   "mimetype": "text/x-python",
   "name": "python",
   "nbconvert_exporter": "python",
   "pygments_lexer": "ipython3",
   "version": "3.10.8"
  }
 },
 "nbformat": 4,
 "nbformat_minor": 5
}
